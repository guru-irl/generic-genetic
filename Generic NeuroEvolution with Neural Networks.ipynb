{
 "cells": [
  {
   "cell_type": "markdown",
   "metadata": {},
   "source": [
    "# Generic NeuroEvolution with Neural Networks\n",
    "## Problem Statement\n",
    "```\n",
    "Build a configurable and customizable class that can be used to simulate neuroevolution in any environment.\n",
    "```\n",
    "1. Generate Individuals. The individuals here would be Neural Networks.\n",
    "2. Cross two Individuals to create two more. Crossing is basically swapping weights between the two individuals to create children.\n",
    "3. Mutate Weights. Change random weights of the two children to some random value.\n",
    "4. Cost Fuction. This is the part that would be problematic here. The fitness function is dependent on the environment. So I need to pass the fitness function into the class as a callable. OR. I can call the cost functions independently and pass the array of costs to the class. "
   ]
  },
  {
   "cell_type": "code",
   "execution_count": 1,
   "metadata": {},
   "outputs": [],
   "source": [
    "import numpy as np\n",
    "import pandas as pd\n",
    "import random\n",
    "import sys\n",
    "import os\n",
    "from copy import deepcopy"
   ]
  },
  {
   "cell_type": "code",
   "execution_count": 2,
   "metadata": {},
   "outputs": [
    {
     "name": "stderr",
     "output_type": "stream",
     "text": [
      "/opt/anaconda/lib/python3.6/site-packages/h5py/__init__.py:36: FutureWarning: Conversion of the second argument of issubdtype from `float` to `np.floating` is deprecated. In future, it will be treated as `np.float64 == np.dtype(float).type`.\n",
      "  from ._conv import register_converters as _register_converters\n",
      "Using TensorFlow backend.\n"
     ]
    }
   ],
   "source": [
    "from keras.models import Sequential\n",
    "from keras.layers import Dense, Activation"
   ]
  },
  {
   "cell_type": "code",
   "execution_count": 3,
   "metadata": {},
   "outputs": [],
   "source": [
    "def generate_models(n, layers):\n",
    "    # Define Layers as [3, 7, 2]\n",
    "    models = []\n",
    "    for _ in range(0, n):\n",
    "        model = Sequential()\n",
    "        model.add(Dense(input_dim = layers[0], units = layers[1], activation='softmax'))\n",
    "        for i in range(2, len(layers)):\n",
    "            model.add(Dense(units = layers[i], activation='softmax'))\n",
    "        models.append(model)\n",
    "    \n",
    "    return models"
   ]
  },
  {
   "cell_type": "markdown",
   "metadata": {},
   "source": [
    "Given the layer dimensions `layers` and the number of individuals `n` to be generated, `generate_models` generates `n` neural networks set to random dimensions. The layers are all dense for now. Future improvements should include the ability to pass a model and create random model copies out of it."
   ]
  },
  {
   "cell_type": "code",
   "execution_count": 4,
   "metadata": {},
   "outputs": [],
   "source": [
    "m = generate_models(2, [3,5,1])"
   ]
  },
  {
   "cell_type": "code",
   "execution_count": 5,
   "metadata": {},
   "outputs": [
    {
     "data": {
      "text/plain": [
       "array([[-0.03555256,  0.06422722, -0.8460808 , -0.01014441, -0.5269511 ],\n",
       "       [-0.5366466 ,  0.7905615 , -0.16158521, -0.38890126, -0.70113134],\n",
       "       [-0.47549668, -0.7120261 , -0.7180643 ,  0.09142244,  0.5848972 ]],\n",
       "      dtype=float32)"
      ]
     },
     "metadata": {},
     "output_type": "display_data"
    },
    {
     "data": {
      "text/plain": [
       "array([0., 0., 0., 0., 0.], dtype=float32)"
      ]
     },
     "metadata": {},
     "output_type": "display_data"
    },
    {
     "data": {
      "text/plain": [
       "array([[-0.36137938],\n",
       "       [-0.42400837],\n",
       "       [ 0.97113633],\n",
       "       [ 0.417907  ],\n",
       "       [-0.9464278 ]], dtype=float32)"
      ]
     },
     "metadata": {},
     "output_type": "display_data"
    },
    {
     "data": {
      "text/plain": [
       "array([0.], dtype=float32)"
      ]
     },
     "metadata": {},
     "output_type": "display_data"
    },
    {
     "data": {
      "text/plain": [
       "array([[ 0.05865771, -0.04157734, -0.1871615 , -0.7084225 ,  0.33334464],\n",
       "       [-0.2245804 ,  0.13263476,  0.4403296 , -0.7794607 , -0.5626081 ],\n",
       "       [ 0.76541656, -0.85100836, -0.1254884 ,  0.19162554,  0.55902845]],\n",
       "      dtype=float32)"
      ]
     },
     "metadata": {},
     "output_type": "display_data"
    },
    {
     "data": {
      "text/plain": [
       "array([0., 0., 0., 0., 0.], dtype=float32)"
      ]
     },
     "metadata": {},
     "output_type": "display_data"
    },
    {
     "data": {
      "text/plain": [
       "array([[-0.98808765],\n",
       "       [-0.8483772 ],\n",
       "       [ 0.6599841 ],\n",
       "       [-0.21556973],\n",
       "       [-0.14797163]], dtype=float32)"
      ]
     },
     "metadata": {},
     "output_type": "display_data"
    },
    {
     "data": {
      "text/plain": [
       "array([0.], dtype=float32)"
      ]
     },
     "metadata": {},
     "output_type": "display_data"
    }
   ],
   "source": [
    "a = (m[1].get_weights())\n",
    "for weight in a:\n",
    "    display(weight)\n",
    "    \n",
    "a = (m[0].get_weights())\n",
    "for weight in a:\n",
    "    display(weight)"
   ]
  },
  {
   "cell_type": "code",
   "execution_count": 6,
   "metadata": {},
   "outputs": [],
   "source": [
    "def cross(parent_1, parent_2, crossover_rate, mutation_rate):\n",
    "    weights1 = parent_1.get_weights()\n",
    "    weights2 = parent_2.get_weights()\n",
    "    \n",
    "    child_weight_1 = deepcopy(weights1)\n",
    "    \n",
    "    for i in range(0, len(weights1),2):\n",
    "        for j in range(0, len(weights1[i])):\n",
    "            for k in range(0, len(weights1[i][j])):\n",
    "                if random.uniform(0,1) > crossover_rate:\n",
    "                    child_weight_1[i][j][k] = weights2[i][j][k]\n",
    "                    print(i, j, k)\n",
    "            \n",
    "                if random.uniform(0,1) < mutation_rate:\n",
    "                    child_weight_1[i][j][k] += random.uniform(-1, 1)\n",
    "                \n",
    "                \n",
    "    child_1 = Sequential.from_config(parent_1.get_config())\n",
    "    child_1.set_weights(child_weight_1)\n",
    "    \n",
    "    return child_1\n",
    "        "
   ]
  },
  {
   "cell_type": "markdown",
   "metadata": {},
   "source": [
    "The crossing works very similar to the algorithm I used in my string matcher experiment. For a given weight in the child, I randomly choose between the respective weights of the two parents"
   ]
  },
  {
   "cell_type": "code",
   "execution_count": 7,
   "metadata": {},
   "outputs": [
    {
     "name": "stdout",
     "output_type": "stream",
     "text": [
      "0 0 0\n",
      "0 0 1\n",
      "0 0 2\n",
      "0 0 4\n",
      "0 1 0\n",
      "0 2 2\n",
      "0 2 3\n",
      "0 2 4\n",
      "2 0 0\n",
      "2 2 0\n"
     ]
    }
   ],
   "source": [
    "child1 = cross (m[0], m[1], 0.5, 0.1)"
   ]
  },
  {
   "cell_type": "code",
   "execution_count": 8,
   "metadata": {},
   "outputs": [
    {
     "data": {
      "text/plain": [
       "[array([[-0.03555256, -0.35645416, -0.8460808 , -0.7084225 , -0.5269511 ],\n",
       "        [-0.5366466 ,  0.13263476,  0.4403296 , -0.7794607 , -0.5626081 ],\n",
       "        [ 0.76541656, -0.85100836, -0.7180643 ,  0.09142244,  0.5848972 ]],\n",
       "       dtype=float32),\n",
       " array([0., 0., 0., 0., 0.], dtype=float32),\n",
       " array([[-0.36137938],\n",
       "        [-0.8483772 ],\n",
       "        [ 0.97113633],\n",
       "        [-0.67373973],\n",
       "        [-0.14797163]], dtype=float32),\n",
       " array([0.], dtype=float32)]"
      ]
     },
     "execution_count": 8,
     "metadata": {},
     "output_type": "execute_result"
    }
   ],
   "source": [
    "child1.get_weights()"
   ]
  },
  {
   "cell_type": "markdown",
   "metadata": {},
   "source": [
    "This seems to be working pretty well too. I randomly choose to swap weights from the two parents based on a `crossover_rate`. The algorithm is more expensive but I hope to see good results. It worked pretty well for the string matcher thing I wrote a while back. Mutation is basically choosing a random value from -1 to 1 based on a `mutation_rate`.  \n",
    "Okay, the `get_weights` function returns the values for the activation layers as well. And the crossover algorithm randomly mutates these as well. This might be a problem. But theoretically, the activation layer is basically the categorized probabilities at that stage. So, if the algorithm changes these values, it should technically get reupdated to the actual values based on the changed weights. \n",
    "Let's see."
   ]
  },
  {
   "cell_type": "markdown",
   "metadata": {},
   "source": [
    "## 17/5/2018\n",
    "I managed to change the crossver function to make it change only the weights and not the activations. It should work fine now."
   ]
  },
  {
   "cell_type": "markdown",
   "metadata": {},
   "source": [
    "2 parents => 1 child\n"
   ]
  },
  {
   "cell_type": "code",
   "execution_count": 10,
   "metadata": {},
   "outputs": [],
   "source": [
    "def next_generation(current_population, fitness, n_best_individuals, n_total_survivors):\n",
    "    current_population = [individual for _,individual in sorted(zip(fitness, current_population))]\n",
    "    survivors = current_population[0:n_best_individuals]\n",
    "    for _ in range(0, n_total_survivors - n_best_individuals):\n",
    "        survivors.append(random.randint(n_best_individuals, len(current_population)))\n",
    "    new_generation = []\n",
    "    for i in range(0, len(survivors)):\n",
    "        for j in range(i, len(survivors)):\n",
    "            if (i == j):\n",
    "                new_generation.append(survivors[i])\n",
    "            else:\n",
    "                new_generation.append(cross(survivors[i], survivors[j], 0.5, 0.2))\n",
    "    return new_generation"
   ]
  },
  {
   "cell_type": "code",
   "execution_count": 12,
   "metadata": {},
   "outputs": [
    {
     "name": "stdout",
     "output_type": "stream",
     "text": [
      "0 0 0\n",
      "0 0 3\n",
      "0 0 4\n",
      "0 1 3\n",
      "0 1 4\n",
      "0 2 1\n",
      "0 2 2\n",
      "0 2 4\n",
      "2 1 0\n",
      "2 2 0\n"
     ]
    },
    {
     "data": {
      "text/plain": [
       "[<keras.models.Sequential at 0x7fe69d371860>,\n",
       " <keras.models.Sequential at 0x7fe6946a3828>,\n",
       " <keras.models.Sequential at 0x7fe69d371588>]"
      ]
     },
     "execution_count": 12,
     "metadata": {},
     "output_type": "execute_result"
    }
   ],
   "source": [
    "cost_array = [0.8, 0]\n",
    "next_generation(m, cost_array, 2, 2)"
   ]
  },
  {
   "cell_type": "markdown",
   "metadata": {},
   "source": [
    "Pretty much everything is working now. I need to convert this to a class that I can use everywhere."
   ]
  },
  {
   "cell_type": "code",
   "execution_count": 15,
   "metadata": {},
   "outputs": [],
   "source": [
    "class neuroevolution:\n",
    "    \n",
    "    def __init__ (population_size, layers, mutation_rate, n_best_survivors, n_total_survivors, crossover_rate):\n",
    "        self.population_size = population_size\n",
    "        self.mutation_rate = mutation_rate\n",
    "        self.n_best_survivors = n_best_survivors\n",
    "        self.n_total_survivors = n_total_survivors\n",
    "        self.crossover_rate = crossover_rate\n",
    "        self.best_models = []\n",
    "        \n",
    "    def init_generation():\n",
    "        self.current_population = []\n",
    "        for _ in range(0, self.population_size):\n",
    "            model = Sequential()\n",
    "            model.add(Dense(input_dim = self.layers[0], units = self.layers[1], activation='softmax'))\n",
    "            for i in range(2, len(self.layers)):\n",
    "                model.add(Dense(units = self.layers[i], activation='softmax'))\n",
    "            current_population.append(model)\n",
    "        return current_population\n",
    "    \n",
    "    def cross(parent_1, parent_2, crossover_rate, mutation_rate):\n",
    "        weights1 = parent_1.get_weights()\n",
    "        weights2 = parent_2.get_weights()\n",
    "    \n",
    "        child_weight_1 = deepcopy(weights1)\n",
    "    \n",
    "        for i in range(0, len(weights1),2):\n",
    "            for j in range(0, len(weights1[i])):\n",
    "                for k in range(0, len(weights1[i][j])):\n",
    "                    if random.uniform(0,1) > crossover_rate:\n",
    "                        child_weight_1[i][j][k] = weights2[i][j][k]\n",
    "                        print(i, j, k)\n",
    "            \n",
    "                    if random.uniform(0,1) < mutation_rate:\n",
    "                        child_weight_1[i][j][k] += random.uniform(-1, 1)\n",
    "                \n",
    "                \n",
    "        child_1 = Sequential.from_config(parent_1.get_config())\n",
    "        child_1.set_weights(child_weight_1)\n",
    "    \n",
    "        return child_1\n",
    "    \n",
    "    def next_generation(fitness):\n",
    "        self.current_population = [individual for _,individual in sorted(zip(fitness, self.current_population))]\n",
    "        survivors = self.current_population[0:self.n_best_individuals]\n",
    "        self.best_models.append(self.current_population[0])\n",
    "        for _ in range(0, self.n_total_survivors - self.n_best_individuals):\n",
    "            survivors.append(random.randint(self.n_best_individuals, len(self.current_population)))\n",
    "        new_generation = []\n",
    "        for i in range(0, len(survivors)):\n",
    "            for j in range(i, len(survivors)):\n",
    "                if (i == j):\n",
    "                    new_generation.append(survivors[i])\n",
    "                else:\n",
    "                    new_generation.append(cross(survivors[i], survivors[j], 0.5, 0.2))\n",
    "        self.current_population = new_generation\n",
    "        return current_population\n",
    "    \n",
    "    def history():\n",
    "        return self.best_models\n",
    "    "
   ]
  },
  {
   "cell_type": "markdown",
   "metadata": {},
   "source": [
    "This should be our final simple class. It's functionalities are kind of limited but it serves my purpose pretty well. It's simple enough to modify the model creation and the mutation to my will. \n",
    "\n",
    "**NOTE: THIS CLASS HAS BUGS BECAUSE IT WASN'T TESTED. CHECK THE .py FILE IN THE SAME REPOSITORY WHICH HAS THE BUG FREE ACTUALLY WORKING CLASS.**\n",
    "\n",
    "The .py version of this class that can be imported in other scripts is available in the same repository"
   ]
  }
 ],
 "metadata": {
  "kernelspec": {
   "display_name": "Python 3",
   "language": "python",
   "name": "python3"
  },
  "language_info": {
   "codemirror_mode": {
    "name": "ipython",
    "version": 3
   },
   "file_extension": ".py",
   "mimetype": "text/x-python",
   "name": "python",
   "nbconvert_exporter": "python",
   "pygments_lexer": "ipython3",
   "version": "3.6.4"
  }
 },
 "nbformat": 4,
 "nbformat_minor": 2
}
